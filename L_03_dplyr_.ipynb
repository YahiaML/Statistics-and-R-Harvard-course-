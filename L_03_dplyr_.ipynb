{
  "nbformat": 4,
  "nbformat_minor": 0,
  "metadata": {
    "colab": {
      "name": "L_03 dplyr .ipynb",
      "provenance": [],
      "collapsed_sections": [],
      "authorship_tag": "ABX9TyNtjjQGNC4FugW7UoDLSYBO",
      "include_colab_link": true
    },
    "kernelspec": {
      "name": "ir",
      "display_name": "R"
    },
    "language_info": {
      "name": "R"
    }
  },
  "cells": [
    {
      "cell_type": "markdown",
      "metadata": {
        "id": "view-in-github",
        "colab_type": "text"
      },
      "source": [
        "<a href=\"https://colab.research.google.com/github/YahiaML/Statistics-and-R-Harvard-course-/blob/main/L_03_dplyr_.ipynb\" target=\"_parent\"><img src=\"https://colab.research.google.com/assets/colab-badge.svg\" alt=\"Open In Colab\"/></a>"
      ]
    },
    {
      "cell_type": "code",
      "source": [
        "install.packages(\"dplyr\")"
      ],
      "metadata": {
        "colab": {
          "base_uri": "https://localhost:8080/"
        },
        "id": "2c7xOdb8vfPc",
        "outputId": "80c1ea38-c146-451a-e439-28c5fbe290f2"
      },
      "execution_count": 107,
      "outputs": [
        {
          "output_type": "stream",
          "name": "stderr",
          "text": [
            "Installing package into ‘/usr/local/lib/R/site-library’\n",
            "(as ‘lib’ is unspecified)\n",
            "\n"
          ]
        }
      ]
    },
    {
      "cell_type": "code",
      "source": [
        "library(dplyr) "
      ],
      "metadata": {
        "id": "QE6xg5uWvfVF"
      },
      "execution_count": 108,
      "outputs": []
    },
    {
      "cell_type": "code",
      "source": [
        "library (readr)\n",
        "\n",
        "urlfile <- \"https://raw.githubusercontent.com/genomicsclass/dagdata/master/inst/extdata/femaleMiceWeights.csv\"\n",
        "\n",
        "df <- read_csv(url(urlfile))"
      ],
      "metadata": {
        "id": "AveXKAKTv5iU"
      },
      "execution_count": null,
      "outputs": []
    },
    {
      "cell_type": "code",
      "source": [
        "head(df,2)"
      ],
      "metadata": {
        "colab": {
          "base_uri": "https://localhost:8080/",
          "height": 161
        },
        "id": "R9YIJ3bkwidc",
        "outputId": "e231d59d-4d56-4cc5-bc6c-6c56055ef5dd"
      },
      "execution_count": 114,
      "outputs": [
        {
          "output_type": "display_data",
          "data": {
            "text/html": [
              "<table class=\"dataframe\">\n",
              "<caption>A tibble: 2 × 2</caption>\n",
              "<thead>\n",
              "\t<tr><th scope=col>Diet</th><th scope=col>Bodyweight</th></tr>\n",
              "\t<tr><th scope=col>&lt;chr&gt;</th><th scope=col>&lt;dbl&gt;</th></tr>\n",
              "</thead>\n",
              "<tbody>\n",
              "\t<tr><td>chow</td><td>21.51</td></tr>\n",
              "\t<tr><td>chow</td><td>28.14</td></tr>\n",
              "</tbody>\n",
              "</table>\n"
            ],
            "text/markdown": "\nA tibble: 2 × 2\n\n| Diet &lt;chr&gt; | Bodyweight &lt;dbl&gt; |\n|---|---|\n| chow | 21.51 |\n| chow | 28.14 |\n\n",
            "text/latex": "A tibble: 2 × 2\n\\begin{tabular}{ll}\n Diet & Bodyweight\\\\\n <chr> & <dbl>\\\\\n\\hline\n\t chow & 21.51\\\\\n\t chow & 28.14\\\\\n\\end{tabular}\n",
            "text/plain": [
              "  Diet Bodyweight\n",
              "1 chow 21.51     \n",
              "2 chow 28.14     "
            ]
          },
          "metadata": {}
        }
      ]
    },
    {
      "cell_type": "markdown",
      "source": [
        "# Filter the dataset"
      ],
      "metadata": {
        "id": "BYQ_uF0txUGq"
      }
    },
    {
      "cell_type": "code",
      "source": [
        "df2 <- filter(df,Diet == \"chow\") \n",
        "tail(df2,2)\n",
        "tail(df,2)\n",
        "nrow(df2)\n",
        "nrow(df)\n"
      ],
      "metadata": {
        "colab": {
          "base_uri": "https://localhost:8080/",
          "height": 339
        },
        "id": "imW7ocnEwGUE",
        "outputId": "336557c8-7288-46a5-9412-d24c14fb8559"
      },
      "execution_count": 123,
      "outputs": [
        {
          "output_type": "display_data",
          "data": {
            "text/html": [
              "<table class=\"dataframe\">\n",
              "<caption>A tibble: 2 × 2</caption>\n",
              "<thead>\n",
              "\t<tr><th scope=col>Diet</th><th scope=col>Bodyweight</th></tr>\n",
              "\t<tr><th scope=col>&lt;chr&gt;</th><th scope=col>&lt;dbl&gt;</th></tr>\n",
              "</thead>\n",
              "<tbody>\n",
              "\t<tr><td>chow</td><td>26.91</td></tr>\n",
              "\t<tr><td>chow</td><td>26.25</td></tr>\n",
              "</tbody>\n",
              "</table>\n"
            ],
            "text/markdown": "\nA tibble: 2 × 2\n\n| Diet &lt;chr&gt; | Bodyweight &lt;dbl&gt; |\n|---|---|\n| chow | 26.91 |\n| chow | 26.25 |\n\n",
            "text/latex": "A tibble: 2 × 2\n\\begin{tabular}{ll}\n Diet & Bodyweight\\\\\n <chr> & <dbl>\\\\\n\\hline\n\t chow & 26.91\\\\\n\t chow & 26.25\\\\\n\\end{tabular}\n",
            "text/plain": [
              "  Diet Bodyweight\n",
              "1 chow 26.91     \n",
              "2 chow 26.25     "
            ]
          },
          "metadata": {}
        },
        {
          "output_type": "display_data",
          "data": {
            "text/html": [
              "<table class=\"dataframe\">\n",
              "<caption>A tibble: 2 × 2</caption>\n",
              "<thead>\n",
              "\t<tr><th scope=col>Diet</th><th scope=col>Bodyweight</th></tr>\n",
              "\t<tr><th scope=col>&lt;chr&gt;</th><th scope=col>&lt;dbl&gt;</th></tr>\n",
              "</thead>\n",
              "<tbody>\n",
              "\t<tr><td>hf</td><td>31.53</td></tr>\n",
              "\t<tr><td>hf</td><td>20.73</td></tr>\n",
              "</tbody>\n",
              "</table>\n"
            ],
            "text/markdown": "\nA tibble: 2 × 2\n\n| Diet &lt;chr&gt; | Bodyweight &lt;dbl&gt; |\n|---|---|\n| hf | 31.53 |\n| hf | 20.73 |\n\n",
            "text/latex": "A tibble: 2 × 2\n\\begin{tabular}{ll}\n Diet & Bodyweight\\\\\n <chr> & <dbl>\\\\\n\\hline\n\t hf & 31.53\\\\\n\t hf & 20.73\\\\\n\\end{tabular}\n",
            "text/plain": [
              "  Diet Bodyweight\n",
              "1 hf   31.53     \n",
              "2 hf   20.73     "
            ]
          },
          "metadata": {}
        },
        {
          "output_type": "display_data",
          "data": {
            "text/html": [
              "12"
            ],
            "text/markdown": "12",
            "text/latex": "12",
            "text/plain": [
              "[1] 12"
            ]
          },
          "metadata": {}
        },
        {
          "output_type": "display_data",
          "data": {
            "text/html": [
              "24"
            ],
            "text/markdown": "24",
            "text/latex": "24",
            "text/plain": [
              "[1] 24"
            ]
          },
          "metadata": {}
        }
      ]
    },
    {
      "cell_type": "markdown",
      "source": [
        "#select a specific column"
      ],
      "metadata": {
        "id": "emKuzaYJxZUC"
      }
    },
    {
      "cell_type": "code",
      "source": [
        "select(df2, Bodyweight)"
      ],
      "metadata": {
        "colab": {
          "base_uri": "https://localhost:8080/",
          "height": 492
        },
        "id": "7Btm1YlnxYyy",
        "outputId": "ec384b70-9369-418b-8dbe-1beabfae60d1"
      },
      "execution_count": 124,
      "outputs": [
        {
          "output_type": "display_data",
          "data": {
            "text/html": [
              "<table class=\"dataframe\">\n",
              "<caption>A tibble: 12 × 1</caption>\n",
              "<thead>\n",
              "\t<tr><th scope=col>Bodyweight</th></tr>\n",
              "\t<tr><th scope=col>&lt;dbl&gt;</th></tr>\n",
              "</thead>\n",
              "<tbody>\n",
              "\t<tr><td>21.51</td></tr>\n",
              "\t<tr><td>28.14</td></tr>\n",
              "\t<tr><td>24.04</td></tr>\n",
              "\t<tr><td>23.45</td></tr>\n",
              "\t<tr><td>23.68</td></tr>\n",
              "\t<tr><td>19.79</td></tr>\n",
              "\t<tr><td>28.40</td></tr>\n",
              "\t<tr><td>20.98</td></tr>\n",
              "\t<tr><td>22.51</td></tr>\n",
              "\t<tr><td>20.10</td></tr>\n",
              "\t<tr><td>26.91</td></tr>\n",
              "\t<tr><td>26.25</td></tr>\n",
              "</tbody>\n",
              "</table>\n"
            ],
            "text/markdown": "\nA tibble: 12 × 1\n\n| Bodyweight &lt;dbl&gt; |\n|---|\n| 21.51 |\n| 28.14 |\n| 24.04 |\n| 23.45 |\n| 23.68 |\n| 19.79 |\n| 28.40 |\n| 20.98 |\n| 22.51 |\n| 20.10 |\n| 26.91 |\n| 26.25 |\n\n",
            "text/latex": "A tibble: 12 × 1\n\\begin{tabular}{l}\n Bodyweight\\\\\n <dbl>\\\\\n\\hline\n\t 21.51\\\\\n\t 28.14\\\\\n\t 24.04\\\\\n\t 23.45\\\\\n\t 23.68\\\\\n\t 19.79\\\\\n\t 28.40\\\\\n\t 20.98\\\\\n\t 22.51\\\\\n\t 20.10\\\\\n\t 26.91\\\\\n\t 26.25\\\\\n\\end{tabular}\n",
            "text/plain": [
              "   Bodyweight\n",
              "1  21.51     \n",
              "2  28.14     \n",
              "3  24.04     \n",
              "4  23.45     \n",
              "5  23.68     \n",
              "6  19.79     \n",
              "7  28.40     \n",
              "8  20.98     \n",
              "9  22.51     \n",
              "10 20.10     \n",
              "11 26.91     \n",
              "12 26.25     "
            ]
          },
          "metadata": {}
        }
      ]
    },
    {
      "cell_type": "markdown",
      "source": [
        "#Unlist"
      ],
      "metadata": {
        "id": "ngOCrl8xx4OK"
      }
    },
    {
      "cell_type": "code",
      "source": [
        "Bodyweight_list <- select(df2, Bodyweight)\n",
        "\n",
        "un_listed_Bodyweight <- unlist(Bodyweight_list)\n",
        "un_listed_Bodyweight"
      ],
      "metadata": {
        "colab": {
          "base_uri": "https://localhost:8080/",
          "height": 52
        },
        "id": "E5IM3Qkgx5vp",
        "outputId": "59b603af-dd8d-4908-e013-92d07a3620e1"
      },
      "execution_count": 125,
      "outputs": [
        {
          "output_type": "display_data",
          "data": {
            "text/html": [
              "<style>\n",
              ".dl-inline {width: auto; margin:0; padding: 0}\n",
              ".dl-inline>dt, .dl-inline>dd {float: none; width: auto; display: inline-block}\n",
              ".dl-inline>dt::after {content: \":\\0020\"; padding-right: .5ex}\n",
              ".dl-inline>dt:not(:first-of-type) {padding-left: .5ex}\n",
              "</style><dl class=dl-inline><dt>Bodyweight1</dt><dd>21.51</dd><dt>Bodyweight2</dt><dd>28.14</dd><dt>Bodyweight3</dt><dd>24.04</dd><dt>Bodyweight4</dt><dd>23.45</dd><dt>Bodyweight5</dt><dd>23.68</dd><dt>Bodyweight6</dt><dd>19.79</dd><dt>Bodyweight7</dt><dd>28.4</dd><dt>Bodyweight8</dt><dd>20.98</dd><dt>Bodyweight9</dt><dd>22.51</dd><dt>Bodyweight10</dt><dd>20.1</dd><dt>Bodyweight11</dt><dd>26.91</dd><dt>Bodyweight12</dt><dd>26.25</dd></dl>\n"
            ],
            "text/markdown": "Bodyweight1\n:   21.51Bodyweight2\n:   28.14Bodyweight3\n:   24.04Bodyweight4\n:   23.45Bodyweight5\n:   23.68Bodyweight6\n:   19.79Bodyweight7\n:   28.4Bodyweight8\n:   20.98Bodyweight9\n:   22.51Bodyweight10\n:   20.1Bodyweight11\n:   26.91Bodyweight12\n:   26.25\n\n",
            "text/latex": "\\begin{description*}\n\\item[Bodyweight1] 21.51\n\\item[Bodyweight2] 28.14\n\\item[Bodyweight3] 24.04\n\\item[Bodyweight4] 23.45\n\\item[Bodyweight5] 23.68\n\\item[Bodyweight6] 19.79\n\\item[Bodyweight7] 28.4\n\\item[Bodyweight8] 20.98\n\\item[Bodyweight9] 22.51\n\\item[Bodyweight10] 20.1\n\\item[Bodyweight11] 26.91\n\\item[Bodyweight12] 26.25\n\\end{description*}\n",
            "text/plain": [
              " Bodyweight1  Bodyweight2  Bodyweight3  Bodyweight4  Bodyweight5  Bodyweight6 \n",
              "       21.51        28.14        24.04        23.45        23.68        19.79 \n",
              " Bodyweight7  Bodyweight8  Bodyweight9 Bodyweight10 Bodyweight11 Bodyweight12 \n",
              "       28.40        20.98        22.51        20.10        26.91        26.25 "
            ]
          },
          "metadata": {}
        }
      ]
    }
  ]
}