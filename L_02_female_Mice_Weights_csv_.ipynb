{
  "nbformat": 4,
  "nbformat_minor": 0,
  "metadata": {
    "colab": {
      "name": "L_2 female Mice Weights csv .ipynb",
      "provenance": [],
      "collapsed_sections": [],
      "authorship_tag": "ABX9TyP0r24Gvx9dCOCB3AefvJt4",
      "include_colab_link": true
    },
    "kernelspec": {
      "name": "ir",
      "display_name": "R"
    },
    "language_info": {
      "name": "R"
    }
  },
  "cells": [
    {
      "cell_type": "markdown",
      "metadata": {
        "id": "view-in-github",
        "colab_type": "text"
      },
      "source": [
        "<a href=\"https://colab.research.google.com/github/YahiaML/Statistics-and-R-Harvard-course-/blob/main/L_2_female_Mice_Weights_csv_.ipynb\" target=\"_parent\"><img src=\"https://colab.research.google.com/assets/colab-badge.svg\" alt=\"Open In Colab\"/></a>"
      ]
    },
    {
      "cell_type": "markdown",
      "source": [
        "#**Getting Started Exercises #1**\n",
        "\n",
        "Read in the file femaleMiceWeights.csv and report the exact name of the column containing the weights."
      ],
      "metadata": {
        "id": "-xZ0XgrUnDkc"
      }
    },
    {
      "cell_type": "code",
      "source": [
        "library (readr)\n",
        "\n",
        "urlfile <- \"https://raw.githubusercontent.com/genomicsclass/dagdata/master/inst/extdata/femaleMiceWeights.csv\"\n",
        "\n",
        "df <- read_csv(url(urlfile))"
      ],
      "metadata": {
        "colab": {
          "base_uri": "https://localhost:8080/"
        },
        "id": "2zw1cHdUFfnc",
        "outputId": "4f67e34e-7b64-4862-8124-ecd4d962a0cd"
      },
      "execution_count": 61,
      "outputs": [
        {
          "output_type": "stream",
          "name": "stderr",
          "text": [
            "\u001b[1mRows: \u001b[22m\u001b[34m24\u001b[39m \u001b[1mColumns: \u001b[22m\u001b[34m2\u001b[39m\n",
            "\u001b[36m──\u001b[39m \u001b[1mColumn specification\u001b[22m \u001b[36m────────────────────────────────────────────────────────\u001b[39m\n",
            "\u001b[1mDelimiter:\u001b[22m \",\"\n",
            "\u001b[31mchr\u001b[39m (1): Diet\n",
            "\u001b[32mdbl\u001b[39m (1): Bodyweight\n",
            "\n",
            "\u001b[36mℹ\u001b[39m Use `spec()` to retrieve the full column specification for this data.\n",
            "\u001b[36mℹ\u001b[39m Specify the column types or set `show_col_types = FALSE` to quiet this message.\n"
          ]
        }
      ]
    },
    {
      "cell_type": "code",
      "source": [
        "df"
      ],
      "metadata": {
        "colab": {
          "base_uri": "https://localhost:8080/",
          "height": 851
        },
        "id": "KTwXP-I4Y_0h",
        "outputId": "891aab71-0cc4-4878-c512-8ebb58f1aa74"
      },
      "execution_count": 62,
      "outputs": [
        {
          "output_type": "display_data",
          "data": {
            "text/html": [
              "<table class=\"dataframe\">\n",
              "<caption>A spec_tbl_df: 24 × 2</caption>\n",
              "<thead>\n",
              "\t<tr><th scope=col>Diet</th><th scope=col>Bodyweight</th></tr>\n",
              "\t<tr><th scope=col>&lt;chr&gt;</th><th scope=col>&lt;dbl&gt;</th></tr>\n",
              "</thead>\n",
              "<tbody>\n",
              "\t<tr><td>chow</td><td>21.51</td></tr>\n",
              "\t<tr><td>chow</td><td>28.14</td></tr>\n",
              "\t<tr><td>chow</td><td>24.04</td></tr>\n",
              "\t<tr><td>chow</td><td>23.45</td></tr>\n",
              "\t<tr><td>chow</td><td>23.68</td></tr>\n",
              "\t<tr><td>chow</td><td>19.79</td></tr>\n",
              "\t<tr><td>chow</td><td>28.40</td></tr>\n",
              "\t<tr><td>chow</td><td>20.98</td></tr>\n",
              "\t<tr><td>chow</td><td>22.51</td></tr>\n",
              "\t<tr><td>chow</td><td>20.10</td></tr>\n",
              "\t<tr><td>chow</td><td>26.91</td></tr>\n",
              "\t<tr><td>chow</td><td>26.25</td></tr>\n",
              "\t<tr><td>hf  </td><td>25.71</td></tr>\n",
              "\t<tr><td>hf  </td><td>26.37</td></tr>\n",
              "\t<tr><td>hf  </td><td>22.80</td></tr>\n",
              "\t<tr><td>hf  </td><td>25.34</td></tr>\n",
              "\t<tr><td>hf  </td><td>24.97</td></tr>\n",
              "\t<tr><td>hf  </td><td>28.14</td></tr>\n",
              "\t<tr><td>hf  </td><td>29.58</td></tr>\n",
              "\t<tr><td>hf  </td><td>30.92</td></tr>\n",
              "\t<tr><td>hf  </td><td>34.02</td></tr>\n",
              "\t<tr><td>hf  </td><td>21.90</td></tr>\n",
              "\t<tr><td>hf  </td><td>31.53</td></tr>\n",
              "\t<tr><td>hf  </td><td>20.73</td></tr>\n",
              "</tbody>\n",
              "</table>\n"
            ],
            "text/markdown": "\nA spec_tbl_df: 24 × 2\n\n| Diet &lt;chr&gt; | Bodyweight &lt;dbl&gt; |\n|---|---|\n| chow | 21.51 |\n| chow | 28.14 |\n| chow | 24.04 |\n| chow | 23.45 |\n| chow | 23.68 |\n| chow | 19.79 |\n| chow | 28.40 |\n| chow | 20.98 |\n| chow | 22.51 |\n| chow | 20.10 |\n| chow | 26.91 |\n| chow | 26.25 |\n| hf   | 25.71 |\n| hf   | 26.37 |\n| hf   | 22.80 |\n| hf   | 25.34 |\n| hf   | 24.97 |\n| hf   | 28.14 |\n| hf   | 29.58 |\n| hf   | 30.92 |\n| hf   | 34.02 |\n| hf   | 21.90 |\n| hf   | 31.53 |\n| hf   | 20.73 |\n\n",
            "text/latex": "A spec\\_tbl\\_df: 24 × 2\n\\begin{tabular}{ll}\n Diet & Bodyweight\\\\\n <chr> & <dbl>\\\\\n\\hline\n\t chow & 21.51\\\\\n\t chow & 28.14\\\\\n\t chow & 24.04\\\\\n\t chow & 23.45\\\\\n\t chow & 23.68\\\\\n\t chow & 19.79\\\\\n\t chow & 28.40\\\\\n\t chow & 20.98\\\\\n\t chow & 22.51\\\\\n\t chow & 20.10\\\\\n\t chow & 26.91\\\\\n\t chow & 26.25\\\\\n\t hf   & 25.71\\\\\n\t hf   & 26.37\\\\\n\t hf   & 22.80\\\\\n\t hf   & 25.34\\\\\n\t hf   & 24.97\\\\\n\t hf   & 28.14\\\\\n\t hf   & 29.58\\\\\n\t hf   & 30.92\\\\\n\t hf   & 34.02\\\\\n\t hf   & 21.90\\\\\n\t hf   & 31.53\\\\\n\t hf   & 20.73\\\\\n\\end{tabular}\n",
            "text/plain": [
              "   Diet Bodyweight\n",
              "1  chow 21.51     \n",
              "2  chow 28.14     \n",
              "3  chow 24.04     \n",
              "4  chow 23.45     \n",
              "5  chow 23.68     \n",
              "6  chow 19.79     \n",
              "7  chow 28.40     \n",
              "8  chow 20.98     \n",
              "9  chow 22.51     \n",
              "10 chow 20.10     \n",
              "11 chow 26.91     \n",
              "12 chow 26.25     \n",
              "13 hf   25.71     \n",
              "14 hf   26.37     \n",
              "15 hf   22.80     \n",
              "16 hf   25.34     \n",
              "17 hf   24.97     \n",
              "18 hf   28.14     \n",
              "19 hf   29.58     \n",
              "20 hf   30.92     \n",
              "21 hf   34.02     \n",
              "22 hf   21.90     \n",
              "23 hf   31.53     \n",
              "24 hf   20.73     "
            ]
          },
          "metadata": {}
        }
      ]
    },
    {
      "cell_type": "markdown",
      "source": [
        "#**Getting Started Exercises #2**\n",
        "\n",
        "The [ and ] symbols can be used to extract specific rows and specific columns of the table.\n",
        "\n",
        "What is the entry in the 12th row and second column?"
      ],
      "metadata": {
        "id": "p3sGMbq2nOij"
      }
    },
    {
      "cell_type": "code",
      "source": [
        "df[12,2]   # Row, column"
      ],
      "metadata": {
        "colab": {
          "base_uri": "https://localhost:8080/",
          "height": 129
        },
        "id": "3yX-5JW1nV_N",
        "outputId": "a719c872-f90d-4342-cc96-7473d4ecc806"
      },
      "execution_count": 90,
      "outputs": [
        {
          "output_type": "display_data",
          "data": {
            "text/html": [
              "<table class=\"dataframe\">\n",
              "<caption>A tibble: 1 × 1</caption>\n",
              "<thead>\n",
              "\t<tr><th scope=col>Bodyweight</th></tr>\n",
              "\t<tr><th scope=col>&lt;dbl&gt;</th></tr>\n",
              "</thead>\n",
              "<tbody>\n",
              "\t<tr><td>26.25</td></tr>\n",
              "</tbody>\n",
              "</table>\n"
            ],
            "text/markdown": "\nA tibble: 1 × 1\n\n| Bodyweight &lt;dbl&gt; |\n|---|\n| 26.25 |\n\n",
            "text/latex": "A tibble: 1 × 1\n\\begin{tabular}{l}\n Bodyweight\\\\\n <dbl>\\\\\n\\hline\n\t 26.25\\\\\n\\end{tabular}\n",
            "text/plain": [
              "  Bodyweight\n",
              "1 26.25     "
            ]
          },
          "metadata": {}
        }
      ]
    },
    {
      "cell_type": "markdown",
      "source": [
        "#**Getting Started Exercises #3**\n",
        "\n",
        "You should have learned how to use the dollar character to extract a column from a table and return it as a vector. Use the dollar sign to extract the weight column and report the weight of the mouse in the 11th row."
      ],
      "metadata": {
        "id": "iG6p8ZORpJkO"
      }
    },
    {
      "cell_type": "code",
      "source": [
        "df$Bodyweight[11]"
      ],
      "metadata": {
        "colab": {
          "base_uri": "https://localhost:8080/",
          "height": 34
        },
        "id": "kY5feKoWpOLw",
        "outputId": "3de8c401-2c36-4db9-e3c1-ee5cc35b3659"
      },
      "execution_count": 91,
      "outputs": [
        {
          "output_type": "display_data",
          "data": {
            "text/html": [
              "26.91"
            ],
            "text/markdown": "26.91",
            "text/latex": "26.91",
            "text/plain": [
              "[1] 26.91"
            ]
          },
          "metadata": {}
        }
      ]
    },
    {
      "cell_type": "markdown",
      "source": [
        "#**Getting Started Exercises #4**\n",
        "\n",
        "The length() function returns the number of elements in a vector.\n",
        "\n",
        "How many mice are included in our dataset?"
      ],
      "metadata": {
        "id": "BrMjllVupxcW"
      }
    },
    {
      "cell_type": "code",
      "source": [
        "length(df$Diet)"
      ],
      "metadata": {
        "colab": {
          "base_uri": "https://localhost:8080/",
          "height": 34
        },
        "id": "gwspvBb4p24g",
        "outputId": "85322664-727f-4d31-e873-571928162a6b"
      },
      "execution_count": 92,
      "outputs": [
        {
          "output_type": "display_data",
          "data": {
            "text/html": [
              "24"
            ],
            "text/markdown": "24",
            "text/latex": "24",
            "text/plain": [
              "[1] 24"
            ]
          },
          "metadata": {}
        }
      ]
    },
    {
      "cell_type": "markdown",
      "source": [
        "#**Getting Started Exercises #5**\n",
        "\n",
        "To create a vector with the numbers 3 to 7, we can use seq(3,7) or, because they are consecutive, 3:7. View the data and determine what rows are associated with the high fat or hf diet. Then use the mean() function to compute the average weight of these mice.\n",
        "\n",
        "What is the average weight of mice on the high fat diet?"
      ],
      "metadata": {
        "id": "mH0yxPzlm3yl"
      }
    },
    {
      "cell_type": "code",
      "source": [
        "mean(df$Bodyweight[which(df$Diet == \"hf\")])"
      ],
      "metadata": {
        "colab": {
          "base_uri": "https://localhost:8080/",
          "height": 34
        },
        "id": "kly8eEwRlvJQ",
        "outputId": "9e2c1a49-9ffe-4ab2-e95f-2f0b1806474e"
      },
      "execution_count": 84,
      "outputs": [
        {
          "output_type": "display_data",
          "data": {
            "text/html": [
              "26.8341666666667"
            ],
            "text/markdown": "26.8341666666667",
            "text/latex": "26.8341666666667",
            "text/plain": [
              "[1] 26.83417"
            ]
          },
          "metadata": {}
        }
      ]
    },
    {
      "cell_type": "markdown",
      "source": [
        "#**Getting Started Exercises #6**\n",
        "\n",
        "One of the functions we will be using often is sample(). Read the help file for sample() using ?sample. Now take a random sample of size 1 from the numbers 13 to 24 and report back the weight of the mouse represented by that row. Make sure to type set.seed(1) to ensure that everybody gets the same answer."
      ],
      "metadata": {
        "id": "M88Gr6zMqFqu"
      }
    },
    {
      "cell_type": "code",
      "source": [
        "?sample()"
      ],
      "metadata": {
        "id": "th48ib85qF7v"
      },
      "execution_count": 93,
      "outputs": []
    },
    {
      "cell_type": "code",
      "source": [
        "#sample(values, size_of_subsample) \n",
        "\n",
        "set.seed(1)\n",
        "vec <- 13:24\n",
        "df$Bodyweight[sample(vec, 1)]\n"
      ],
      "metadata": {
        "colab": {
          "base_uri": "https://localhost:8080/",
          "height": 34
        },
        "id": "fnkzaRXtqVMl",
        "outputId": "0bb1a15b-03e3-43c8-a38e-531f448194e4"
      },
      "execution_count": 104,
      "outputs": [
        {
          "output_type": "display_data",
          "data": {
            "text/html": [
              "34.02"
            ],
            "text/markdown": "34.02",
            "text/latex": "34.02",
            "text/plain": [
              "[1] 34.02"
            ]
          },
          "metadata": {}
        }
      ]
    }
  ]
}
