{
  "nbformat": 4,
  "nbformat_minor": 0,
  "metadata": {
    "colab": {
      "name": "L_04 dplyr Exercises .ipynb",
      "provenance": [],
      "collapsed_sections": [],
      "authorship_tag": "ABX9TyNcpI+1wVO51jz83kk/yZqG",
      "include_colab_link": true
    },
    "kernelspec": {
      "name": "ir",
      "display_name": "R"
    },
    "language_info": {
      "name": "R"
    }
  },
  "cells": [
    {
      "cell_type": "markdown",
      "metadata": {
        "id": "view-in-github",
        "colab_type": "text"
      },
      "source": [
        "<a href=\"https://colab.research.google.com/github/YahiaML/Statistics-and-R-Harvard-course-/blob/main/L_04_dplyr_Exercises_.ipynb\" target=\"_parent\"><img src=\"https://colab.research.google.com/assets/colab-badge.svg\" alt=\"Open In Colab\"/></a>"
      ]
    },
    {
      "cell_type": "markdown",
      "source": [
        "#**dplyr Exercises #1**\n",
        "\n",
        "Read in the msleep_ggplot2.csv file with the function read.csv() and use the function class() to determine what type of object is returned."
      ],
      "metadata": {
        "id": "-xZ0XgrUnDkc"
      }
    },
    {
      "cell_type": "code",
      "source": [
        "df <- read.csv(\"https://raw.githubusercontent.com/genomicsclass/dagdata/master/inst/extdata/msleep_ggplot2.csv\")"
      ],
      "metadata": {
        "id": "KTwXP-I4Y_0h"
      },
      "execution_count": 139,
      "outputs": []
    },
    {
      "cell_type": "code",
      "source": [
        "class(df)"
      ],
      "metadata": {
        "colab": {
          "base_uri": "https://localhost:8080/",
          "height": 34
        },
        "id": "N6hWzo_izNxP",
        "outputId": "5bbd83a3-5c7f-4d42-91b6-df844d7e9417"
      },
      "execution_count": 140,
      "outputs": [
        {
          "output_type": "display_data",
          "data": {
            "text/html": [
              "'data.frame'"
            ],
            "text/markdown": "'data.frame'",
            "text/latex": "'data.frame'",
            "text/plain": [
              "[1] \"data.frame\""
            ]
          },
          "metadata": {}
        }
      ]
    },
    {
      "cell_type": "code",
      "source": [
        "head(df,2)"
      ],
      "metadata": {
        "colab": {
          "base_uri": "https://localhost:8080/",
          "height": 161
        },
        "id": "I09NWMJZ1XtT",
        "outputId": "2c2c510f-05e2-4ba1-d57a-383a1095ac97"
      },
      "execution_count": 141,
      "outputs": [
        {
          "output_type": "display_data",
          "data": {
            "text/html": [
              "<table class=\"dataframe\">\n",
              "<caption>A data.frame: 2 × 11</caption>\n",
              "<thead>\n",
              "\t<tr><th></th><th scope=col>name</th><th scope=col>genus</th><th scope=col>vore</th><th scope=col>order</th><th scope=col>conservation</th><th scope=col>sleep_total</th><th scope=col>sleep_rem</th><th scope=col>sleep_cycle</th><th scope=col>awake</th><th scope=col>brainwt</th><th scope=col>bodywt</th></tr>\n",
              "\t<tr><th></th><th scope=col>&lt;chr&gt;</th><th scope=col>&lt;chr&gt;</th><th scope=col>&lt;chr&gt;</th><th scope=col>&lt;chr&gt;</th><th scope=col>&lt;chr&gt;</th><th scope=col>&lt;dbl&gt;</th><th scope=col>&lt;dbl&gt;</th><th scope=col>&lt;dbl&gt;</th><th scope=col>&lt;dbl&gt;</th><th scope=col>&lt;dbl&gt;</th><th scope=col>&lt;dbl&gt;</th></tr>\n",
              "</thead>\n",
              "<tbody>\n",
              "\t<tr><th scope=row>1</th><td>Cheetah   </td><td>Acinonyx</td><td>carni</td><td>Carnivora</td><td>lc</td><td>12.1</td><td> NA</td><td>NA</td><td>11.9</td><td>    NA</td><td>50.00</td></tr>\n",
              "\t<tr><th scope=row>2</th><td>Owl monkey</td><td>Aotus   </td><td>omni </td><td>Primates </td><td>NA</td><td>17.0</td><td>1.8</td><td>NA</td><td> 7.0</td><td>0.0155</td><td> 0.48</td></tr>\n",
              "</tbody>\n",
              "</table>\n"
            ],
            "text/markdown": "\nA data.frame: 2 × 11\n\n| <!--/--> | name &lt;chr&gt; | genus &lt;chr&gt; | vore &lt;chr&gt; | order &lt;chr&gt; | conservation &lt;chr&gt; | sleep_total &lt;dbl&gt; | sleep_rem &lt;dbl&gt; | sleep_cycle &lt;dbl&gt; | awake &lt;dbl&gt; | brainwt &lt;dbl&gt; | bodywt &lt;dbl&gt; |\n|---|---|---|---|---|---|---|---|---|---|---|---|\n| 1 | Cheetah    | Acinonyx | carni | Carnivora | lc | 12.1 |  NA | NA | 11.9 |     NA | 50.00 |\n| 2 | Owl monkey | Aotus    | omni  | Primates  | NA | 17.0 | 1.8 | NA |  7.0 | 0.0155 |  0.48 |\n\n",
            "text/latex": "A data.frame: 2 × 11\n\\begin{tabular}{r|lllllllllll}\n  & name & genus & vore & order & conservation & sleep\\_total & sleep\\_rem & sleep\\_cycle & awake & brainwt & bodywt\\\\\n  & <chr> & <chr> & <chr> & <chr> & <chr> & <dbl> & <dbl> & <dbl> & <dbl> & <dbl> & <dbl>\\\\\n\\hline\n\t1 & Cheetah    & Acinonyx & carni & Carnivora & lc & 12.1 &  NA & NA & 11.9 &     NA & 50.00\\\\\n\t2 & Owl monkey & Aotus    & omni  & Primates  & NA & 17.0 & 1.8 & NA &  7.0 & 0.0155 &  0.48\\\\\n\\end{tabular}\n",
            "text/plain": [
              "  name       genus    vore  order     conservation sleep_total sleep_rem\n",
              "1 Cheetah    Acinonyx carni Carnivora lc           12.1         NA      \n",
              "2 Owl monkey Aotus    omni  Primates  NA           17.0        1.8      \n",
              "  sleep_cycle awake brainwt bodywt\n",
              "1 NA          11.9      NA  50.00 \n",
              "2 NA           7.0  0.0155   0.48 "
            ]
          },
          "metadata": {}
        }
      ]
    },
    {
      "cell_type": "markdown",
      "source": [
        "#**dplyr Exercises #2**\n",
        "\n",
        "Now use the filter() function to select only the primates.\n",
        "\n",
        "How many animals in the table are primates?\n",
        "\n",
        "Hint: the nrow() function gives you the number of rows of a data frame or matrix."
      ],
      "metadata": {
        "id": "p3sGMbq2nOij"
      }
    },
    {
      "cell_type": "code",
      "source": [
        "df_filtred1 <- filter(df, order\t== \"Primates\")\n",
        "nrow(df_filtred1)"
      ],
      "metadata": {
        "colab": {
          "base_uri": "https://localhost:8080/",
          "height": 34
        },
        "id": "3yX-5JW1nV_N",
        "outputId": "e7ff3269-27e0-431a-8e3b-03403a45352c"
      },
      "execution_count": 144,
      "outputs": [
        {
          "output_type": "display_data",
          "data": {
            "text/html": [
              "12"
            ],
            "text/markdown": "12",
            "text/latex": "12",
            "text/plain": [
              "[1] 12"
            ]
          },
          "metadata": {}
        }
      ]
    },
    {
      "cell_type": "code",
      "source": [
        "df_filtred1"
      ],
      "metadata": {
        "colab": {
          "base_uri": "https://localhost:8080/",
          "height": 474
        },
        "id": "kPLx6u6i2D3y",
        "outputId": "5d5e52f8-3c87-4e99-a124-31202539c35f"
      },
      "execution_count": 146,
      "outputs": [
        {
          "output_type": "display_data",
          "data": {
            "text/html": [
              "<table class=\"dataframe\">\n",
              "<caption>A data.frame: 12 × 11</caption>\n",
              "<thead>\n",
              "\t<tr><th scope=col>name</th><th scope=col>genus</th><th scope=col>vore</th><th scope=col>order</th><th scope=col>conservation</th><th scope=col>sleep_total</th><th scope=col>sleep_rem</th><th scope=col>sleep_cycle</th><th scope=col>awake</th><th scope=col>brainwt</th><th scope=col>bodywt</th></tr>\n",
              "\t<tr><th scope=col>&lt;chr&gt;</th><th scope=col>&lt;chr&gt;</th><th scope=col>&lt;chr&gt;</th><th scope=col>&lt;chr&gt;</th><th scope=col>&lt;chr&gt;</th><th scope=col>&lt;dbl&gt;</th><th scope=col>&lt;dbl&gt;</th><th scope=col>&lt;dbl&gt;</th><th scope=col>&lt;dbl&gt;</th><th scope=col>&lt;dbl&gt;</th><th scope=col>&lt;dbl&gt;</th></tr>\n",
              "</thead>\n",
              "<tbody>\n",
              "\t<tr><td>Owl monkey     </td><td>Aotus        </td><td>omni </td><td>Primates</td><td>NA</td><td>17.0</td><td>1.8</td><td>       NA</td><td> 7.0</td><td>0.0155</td><td> 0.480</td></tr>\n",
              "\t<tr><td>Grivet         </td><td>Cercopithecus</td><td>omni </td><td>Primates</td><td>lc</td><td>10.0</td><td>0.7</td><td>       NA</td><td>14.0</td><td>    NA</td><td> 4.750</td></tr>\n",
              "\t<tr><td>Patas monkey   </td><td>Erythrocebus </td><td>omni </td><td>Primates</td><td>lc</td><td>10.9</td><td>1.1</td><td>       NA</td><td>13.1</td><td>0.1150</td><td>10.000</td></tr>\n",
              "\t<tr><td>Galago         </td><td>Galago       </td><td>omni </td><td>Primates</td><td>NA</td><td> 9.8</td><td>1.1</td><td>0.5500000</td><td>14.2</td><td>0.0050</td><td> 0.200</td></tr>\n",
              "\t<tr><td>Human          </td><td>Homo         </td><td>omni </td><td>Primates</td><td>NA</td><td> 8.0</td><td>1.9</td><td>1.5000000</td><td>16.0</td><td>1.3200</td><td>62.000</td></tr>\n",
              "\t<tr><td>Mongoose lemur </td><td>Lemur        </td><td>herbi</td><td>Primates</td><td>vu</td><td> 9.5</td><td>0.9</td><td>       NA</td><td>14.5</td><td>    NA</td><td> 1.670</td></tr>\n",
              "\t<tr><td>Macaque        </td><td>Macaca       </td><td>omni </td><td>Primates</td><td>NA</td><td>10.1</td><td>1.2</td><td>0.7500000</td><td>13.9</td><td>0.1790</td><td> 6.800</td></tr>\n",
              "\t<tr><td>Slow loris     </td><td>Nyctibeus    </td><td>carni</td><td>Primates</td><td>NA</td><td>11.0</td><td> NA</td><td>       NA</td><td>13.0</td><td>0.0125</td><td> 1.400</td></tr>\n",
              "\t<tr><td>Chimpanzee     </td><td>Pan          </td><td>omni </td><td>Primates</td><td>NA</td><td> 9.7</td><td>1.4</td><td>1.4166667</td><td>14.3</td><td>0.4400</td><td>52.200</td></tr>\n",
              "\t<tr><td>Baboon         </td><td>Papio        </td><td>omni </td><td>Primates</td><td>NA</td><td> 9.4</td><td>1.0</td><td>0.6666667</td><td>14.6</td><td>0.1800</td><td>25.235</td></tr>\n",
              "\t<tr><td>Potto          </td><td>Perodicticus </td><td>omni </td><td>Primates</td><td>lc</td><td>11.0</td><td> NA</td><td>       NA</td><td>13.0</td><td>    NA</td><td> 1.100</td></tr>\n",
              "\t<tr><td>Squirrel monkey</td><td>Saimiri      </td><td>omni </td><td>Primates</td><td>NA</td><td> 9.6</td><td>1.4</td><td>       NA</td><td>14.4</td><td>0.0200</td><td> 0.743</td></tr>\n",
              "</tbody>\n",
              "</table>\n"
            ],
            "text/markdown": "\nA data.frame: 12 × 11\n\n| name &lt;chr&gt; | genus &lt;chr&gt; | vore &lt;chr&gt; | order &lt;chr&gt; | conservation &lt;chr&gt; | sleep_total &lt;dbl&gt; | sleep_rem &lt;dbl&gt; | sleep_cycle &lt;dbl&gt; | awake &lt;dbl&gt; | brainwt &lt;dbl&gt; | bodywt &lt;dbl&gt; |\n|---|---|---|---|---|---|---|---|---|---|---|\n| Owl monkey      | Aotus         | omni  | Primates | NA | 17.0 | 1.8 |        NA |  7.0 | 0.0155 |  0.480 |\n| Grivet          | Cercopithecus | omni  | Primates | lc | 10.0 | 0.7 |        NA | 14.0 |     NA |  4.750 |\n| Patas monkey    | Erythrocebus  | omni  | Primates | lc | 10.9 | 1.1 |        NA | 13.1 | 0.1150 | 10.000 |\n| Galago          | Galago        | omni  | Primates | NA |  9.8 | 1.1 | 0.5500000 | 14.2 | 0.0050 |  0.200 |\n| Human           | Homo          | omni  | Primates | NA |  8.0 | 1.9 | 1.5000000 | 16.0 | 1.3200 | 62.000 |\n| Mongoose lemur  | Lemur         | herbi | Primates | vu |  9.5 | 0.9 |        NA | 14.5 |     NA |  1.670 |\n| Macaque         | Macaca        | omni  | Primates | NA | 10.1 | 1.2 | 0.7500000 | 13.9 | 0.1790 |  6.800 |\n| Slow loris      | Nyctibeus     | carni | Primates | NA | 11.0 |  NA |        NA | 13.0 | 0.0125 |  1.400 |\n| Chimpanzee      | Pan           | omni  | Primates | NA |  9.7 | 1.4 | 1.4166667 | 14.3 | 0.4400 | 52.200 |\n| Baboon          | Papio         | omni  | Primates | NA |  9.4 | 1.0 | 0.6666667 | 14.6 | 0.1800 | 25.235 |\n| Potto           | Perodicticus  | omni  | Primates | lc | 11.0 |  NA |        NA | 13.0 |     NA |  1.100 |\n| Squirrel monkey | Saimiri       | omni  | Primates | NA |  9.6 | 1.4 |        NA | 14.4 | 0.0200 |  0.743 |\n\n",
            "text/latex": "A data.frame: 12 × 11\n\\begin{tabular}{lllllllllll}\n name & genus & vore & order & conservation & sleep\\_total & sleep\\_rem & sleep\\_cycle & awake & brainwt & bodywt\\\\\n <chr> & <chr> & <chr> & <chr> & <chr> & <dbl> & <dbl> & <dbl> & <dbl> & <dbl> & <dbl>\\\\\n\\hline\n\t Owl monkey      & Aotus         & omni  & Primates & NA & 17.0 & 1.8 &        NA &  7.0 & 0.0155 &  0.480\\\\\n\t Grivet          & Cercopithecus & omni  & Primates & lc & 10.0 & 0.7 &        NA & 14.0 &     NA &  4.750\\\\\n\t Patas monkey    & Erythrocebus  & omni  & Primates & lc & 10.9 & 1.1 &        NA & 13.1 & 0.1150 & 10.000\\\\\n\t Galago          & Galago        & omni  & Primates & NA &  9.8 & 1.1 & 0.5500000 & 14.2 & 0.0050 &  0.200\\\\\n\t Human           & Homo          & omni  & Primates & NA &  8.0 & 1.9 & 1.5000000 & 16.0 & 1.3200 & 62.000\\\\\n\t Mongoose lemur  & Lemur         & herbi & Primates & vu &  9.5 & 0.9 &        NA & 14.5 &     NA &  1.670\\\\\n\t Macaque         & Macaca        & omni  & Primates & NA & 10.1 & 1.2 & 0.7500000 & 13.9 & 0.1790 &  6.800\\\\\n\t Slow loris      & Nyctibeus     & carni & Primates & NA & 11.0 &  NA &        NA & 13.0 & 0.0125 &  1.400\\\\\n\t Chimpanzee      & Pan           & omni  & Primates & NA &  9.7 & 1.4 & 1.4166667 & 14.3 & 0.4400 & 52.200\\\\\n\t Baboon          & Papio         & omni  & Primates & NA &  9.4 & 1.0 & 0.6666667 & 14.6 & 0.1800 & 25.235\\\\\n\t Potto           & Perodicticus  & omni  & Primates & lc & 11.0 &  NA &        NA & 13.0 &     NA &  1.100\\\\\n\t Squirrel monkey & Saimiri       & omni  & Primates & NA &  9.6 & 1.4 &        NA & 14.4 & 0.0200 &  0.743\\\\\n\\end{tabular}\n",
            "text/plain": [
              "   name            genus         vore  order    conservation sleep_total\n",
              "1  Owl monkey      Aotus         omni  Primates NA           17.0       \n",
              "2  Grivet          Cercopithecus omni  Primates lc           10.0       \n",
              "3  Patas monkey    Erythrocebus  omni  Primates lc           10.9       \n",
              "4  Galago          Galago        omni  Primates NA            9.8       \n",
              "5  Human           Homo          omni  Primates NA            8.0       \n",
              "6  Mongoose lemur  Lemur         herbi Primates vu            9.5       \n",
              "7  Macaque         Macaca        omni  Primates NA           10.1       \n",
              "8  Slow loris      Nyctibeus     carni Primates NA           11.0       \n",
              "9  Chimpanzee      Pan           omni  Primates NA            9.7       \n",
              "10 Baboon          Papio         omni  Primates NA            9.4       \n",
              "11 Potto           Perodicticus  omni  Primates lc           11.0       \n",
              "12 Squirrel monkey Saimiri       omni  Primates NA            9.6       \n",
              "   sleep_rem sleep_cycle awake brainwt bodywt\n",
              "1  1.8              NA    7.0  0.0155   0.480\n",
              "2  0.7              NA   14.0      NA   4.750\n",
              "3  1.1              NA   13.1  0.1150  10.000\n",
              "4  1.1       0.5500000   14.2  0.0050   0.200\n",
              "5  1.9       1.5000000   16.0  1.3200  62.000\n",
              "6  0.9              NA   14.5      NA   1.670\n",
              "7  1.2       0.7500000   13.9  0.1790   6.800\n",
              "8   NA              NA   13.0  0.0125   1.400\n",
              "9  1.4       1.4166667   14.3  0.4400  52.200\n",
              "10 1.0       0.6666667   14.6  0.1800  25.235\n",
              "11  NA              NA   13.0      NA   1.100\n",
              "12 1.4              NA   14.4  0.0200   0.743"
            ]
          },
          "metadata": {}
        }
      ]
    },
    {
      "cell_type": "markdown",
      "source": [
        "#**dplyr Exercises #3**\n",
        "\n",
        "What is the class of the object you obtain after subsetting the table to only include primates?"
      ],
      "metadata": {
        "id": "iG6p8ZORpJkO"
      }
    },
    {
      "cell_type": "code",
      "source": [
        "class(df_filtred1)"
      ],
      "metadata": {
        "colab": {
          "base_uri": "https://localhost:8080/",
          "height": 34
        },
        "id": "kY5feKoWpOLw",
        "outputId": "13a017b3-6c87-4362-b6ce-e71b95c42ecb"
      },
      "execution_count": 145,
      "outputs": [
        {
          "output_type": "display_data",
          "data": {
            "text/html": [
              "'data.frame'"
            ],
            "text/markdown": "'data.frame'",
            "text/latex": "'data.frame'",
            "text/plain": [
              "[1] \"data.frame\""
            ]
          },
          "metadata": {}
        }
      ]
    },
    {
      "cell_type": "markdown",
      "source": [
        "#**dplyr Exercises #4**\n",
        "\n",
        "Now use the select() function to extract the sleep (total) for the primates."
      ],
      "metadata": {
        "id": "BrMjllVupxcW"
      }
    },
    {
      "cell_type": "code",
      "source": [
        "sleep_total_sel <- select(df_filtred1,\"sleep_total\")\n",
        "class(sleep_total_sel)"
      ],
      "metadata": {
        "colab": {
          "base_uri": "https://localhost:8080/",
          "height": 34
        },
        "id": "gwspvBb4p24g",
        "outputId": "c8030df4-1b7b-445c-bac9-0085b28e89e1"
      },
      "execution_count": 162,
      "outputs": [
        {
          "output_type": "display_data",
          "data": {
            "text/html": [
              "'data.frame'"
            ],
            "text/markdown": "'data.frame'",
            "text/latex": "'data.frame'",
            "text/plain": [
              "[1] \"data.frame\""
            ]
          },
          "metadata": {}
        }
      ]
    },
    {
      "cell_type": "markdown",
      "source": [
        "#**dplyr Exercises #5**\n",
        "\n",
        "Now we want to calculate the average amount of sleep for primates (the average of the numbers computed above). One challenge is that the mean() function requires a vector so, if we simply apply it to the output above, we get an error. Look at the help file for unlist() and use it to compute the desired average.\n",
        "\n",
        "What is the average amount of sleep for primates?"
      ],
      "metadata": {
        "id": "mH0yxPzlm3yl"
      }
    },
    {
      "cell_type": "code",
      "source": [
        "mean(unlist(sleep_total_sel))"
      ],
      "metadata": {
        "colab": {
          "base_uri": "https://localhost:8080/",
          "height": 34
        },
        "id": "kly8eEwRlvJQ",
        "outputId": "dca136d6-5c84-418d-f1de-5d34e565dc2b"
      },
      "execution_count": 165,
      "outputs": [
        {
          "output_type": "display_data",
          "data": {
            "text/html": [
              "10.5"
            ],
            "text/markdown": "10.5",
            "text/latex": "10.5",
            "text/plain": [
              "[1] 10.5"
            ]
          },
          "metadata": {}
        }
      ]
    },
    {
      "cell_type": "markdown",
      "source": [
        "#**dplyr Exercises #6**\n",
        "\n",
        "For the last exercise, we could also use the dplyr summarize() function. We have not introduced this function, but you can read the help file and repeat exercise 5, this time using just filter() and summarize() to get the answer.\n",
        "\n",
        "What is the average amount of sleep for primates calculated by summarize()"
      ],
      "metadata": {
        "id": "M88Gr6zMqFqu"
      }
    },
    {
      "cell_type": "code",
      "source": [
        "df_filtered_2 <- filter(df, order==\"Primates\") %>% summarize(sleep_total) %>% unlist\n",
        "mean( df_filtered_2 )"
      ],
      "metadata": {
        "colab": {
          "base_uri": "https://localhost:8080/",
          "height": 34
        },
        "id": "fnkzaRXtqVMl",
        "outputId": "3fbb6274-6c77-4892-939d-e54937a153bb"
      },
      "execution_count": 170,
      "outputs": [
        {
          "output_type": "display_data",
          "data": {
            "text/html": [
              "10.5"
            ],
            "text/markdown": "10.5",
            "text/latex": "10.5",
            "text/plain": [
              "[1] 10.5"
            ]
          },
          "metadata": {}
        }
      ]
    }
  ]
}