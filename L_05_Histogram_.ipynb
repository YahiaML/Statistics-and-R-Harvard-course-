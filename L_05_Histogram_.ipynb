{
  "nbformat": 4,
  "nbformat_minor": 0,
  "metadata": {
    "colab": {
      "name": "L_05 Histogram .ipynb",
      "provenance": [],
      "collapsed_sections": [],
      "authorship_tag": "ABX9TyP//aOIIVtnW+VYGpM6RyUO",
      "include_colab_link": true
    },
    "kernelspec": {
      "name": "ir",
      "display_name": "R"
    },
    "language_info": {
      "name": "R"
    }
  },
  "cells": [
    {
      "cell_type": "markdown",
      "metadata": {
        "id": "view-in-github",
        "colab_type": "text"
      },
      "source": [
        "<a href=\"https://colab.research.google.com/github/YahiaML/Statistics-and-R-Harvard-course-/blob/main/L_05_Histogram_.ipynb\" target=\"_parent\"><img src=\"https://colab.research.google.com/assets/colab-badge.svg\" alt=\"Open In Colab\"/></a>"
      ]
    },
    {
      "cell_type": "markdown",
      "source": [
        "# Data source:\n",
        "http://www.randomservices.org/random/data/Pearson.html\n",
        "\n",
        "https://raw.githubusercontent.com/YahiaML/Statistics-and-R-Harvard-course-/main/Data/Pearsons%20Height%20Data.csv"
      ],
      "metadata": {
        "id": "rWxBIHdScz25"
      }
    },
    {
      "cell_type": "code",
      "source": [
        "df <- read.csv(\"https://raw.githubusercontent.com/YahiaML/Statistics-and-R-Harvard-course-/main/Data/Pearsons%20Height%20Data.csv\")"
      ],
      "metadata": {
        "id": "0-QE6_hucoPy"
      },
      "execution_count": 24,
      "outputs": []
    },
    {
      "cell_type": "code",
      "source": [
        "head(df,2)"
      ],
      "metadata": {
        "colab": {
          "base_uri": "https://localhost:8080/",
          "height": 161
        },
        "id": "fkK0nImZdT7A",
        "outputId": "9d6e4135-ffe2-459e-ee39-b20d27c3cb6e"
      },
      "execution_count": 25,
      "outputs": [
        {
          "output_type": "display_data",
          "data": {
            "text/html": [
              "<table class=\"dataframe\">\n",
              "<caption>A data.frame: 2 × 3</caption>\n",
              "<thead>\n",
              "\t<tr><th></th><th scope=col>Case</th><th scope=col>Father</th><th scope=col>Son</th></tr>\n",
              "\t<tr><th></th><th scope=col>&lt;int&gt;</th><th scope=col>&lt;dbl&gt;</th><th scope=col>&lt;dbl&gt;</th></tr>\n",
              "</thead>\n",
              "<tbody>\n",
              "\t<tr><th scope=row>1</th><td>1</td><td>65.0</td><td>59.8</td></tr>\n",
              "\t<tr><th scope=row>2</th><td>2</td><td>63.3</td><td>63.2</td></tr>\n",
              "</tbody>\n",
              "</table>\n"
            ],
            "text/markdown": "\nA data.frame: 2 × 3\n\n| <!--/--> | Case &lt;int&gt; | Father &lt;dbl&gt; | Son &lt;dbl&gt; |\n|---|---|---|---|\n| 1 | 1 | 65.0 | 59.8 |\n| 2 | 2 | 63.3 | 63.2 |\n\n",
            "text/latex": "A data.frame: 2 × 3\n\\begin{tabular}{r|lll}\n  & Case & Father & Son\\\\\n  & <int> & <dbl> & <dbl>\\\\\n\\hline\n\t1 & 1 & 65.0 & 59.8\\\\\n\t2 & 2 & 63.3 & 63.2\\\\\n\\end{tabular}\n",
            "text/plain": [
              "  Case Father Son \n",
              "1 1    65.0   59.8\n",
              "2 2    63.3   63.2"
            ]
          },
          "metadata": {}
        }
      ]
    },
    {
      "cell_type": "code",
      "source": [
        "samp <- df$Father"
      ],
      "metadata": {
        "id": "CGyPwwN6dVNm"
      },
      "execution_count": 27,
      "outputs": []
    },
    {
      "cell_type": "code",
      "source": [
        "round(sample(samp, 20), 1)   # taking a sample of 20 values"
      ],
      "metadata": {
        "colab": {
          "base_uri": "https://localhost:8080/",
          "height": 34
        },
        "id": "9JnpV0asgJQ4",
        "outputId": "6c5f4768-c116-4169-96d1-cb8d7f275d0a"
      },
      "execution_count": 28,
      "outputs": [
        {
          "output_type": "display_data",
          "data": {
            "text/html": [
              "<style>\n",
              ".list-inline {list-style: none; margin:0; padding: 0}\n",
              ".list-inline>li {display: inline-block}\n",
              ".list-inline>li:not(:last-child)::after {content: \"\\00b7\"; padding: 0 .5ex}\n",
              "</style>\n",
              "<ol class=list-inline><li>68.9</li><li>66.7</li><li>63.2</li><li>65.1</li><li>69</li><li>67.5</li><li>65.3</li><li>70.5</li><li>68.4</li><li>66.9</li><li>69.7</li><li>63.8</li><li>71.2</li><li>69.8</li><li>66.6</li><li>71.2</li><li>71.3</li><li>65.4</li><li>70.4</li><li>68.4</li></ol>\n"
            ],
            "text/markdown": "1. 68.9\n2. 66.7\n3. 63.2\n4. 65.1\n5. 69\n6. 67.5\n7. 65.3\n8. 70.5\n9. 68.4\n10. 66.9\n11. 69.7\n12. 63.8\n13. 71.2\n14. 69.8\n15. 66.6\n16. 71.2\n17. 71.3\n18. 65.4\n19. 70.4\n20. 68.4\n\n\n",
            "text/latex": "\\begin{enumerate*}\n\\item 68.9\n\\item 66.7\n\\item 63.2\n\\item 65.1\n\\item 69\n\\item 67.5\n\\item 65.3\n\\item 70.5\n\\item 68.4\n\\item 66.9\n\\item 69.7\n\\item 63.8\n\\item 71.2\n\\item 69.8\n\\item 66.6\n\\item 71.2\n\\item 71.3\n\\item 65.4\n\\item 70.4\n\\item 68.4\n\\end{enumerate*}\n",
            "text/plain": [
              " [1] 68.9 66.7 63.2 65.1 69.0 67.5 65.3 70.5 68.4 66.9 69.7 63.8 71.2 69.8 66.6\n",
              "[16] 71.2 71.3 65.4 70.4 68.4"
            ]
          },
          "metadata": {}
        }
      ]
    },
    {
      "cell_type": "code",
      "source": [
        "hist(samp, main = \"Height histogram\" ,xlab = \"Height in inches\")"
      ],
      "metadata": {
        "colab": {
          "base_uri": "https://localhost:8080/",
          "height": 437
        },
        "id": "VoUqnWYvgR0P",
        "outputId": "48e8ee60-969d-4e7b-b0e6-124852e070c2"
      },
      "execution_count": 30,
      "outputs": [
        {
          "output_type": "display_data",
          "data": {
            "text/plain": [
              "Plot with title “Height histogram”"
            ],
            "image/png": "[encoded data removed]"
          },
          "metadata": {
            "image/png": {
              "width": 420,
              "height": 420
            }
          }
        }
      ]
    },
    {
      "cell_type": "markdown",
      "source": [
        "# Empirical commutative distribution function\n",
        "\n",
        "it reports for any given number the percent of individuals that are below that threshold."
      ],
      "metadata": {
        "id": "zYcYjJ7ahV8L"
      }
    },
    {
      "cell_type": "code",
      "source": [
        "samps <- seq(floor(min(samp)), ceiling(max(samp)), 0.1)"
      ],
      "metadata": {
        "id": "GaIQCsfNgWbX"
      },
      "execution_count": 31,
      "outputs": []
    },
    {
      "cell_type": "code",
      "source": [
        "plot(samps, ecdf(samp)(samps), #ecdf: Empirical Cumulative Distribution Function\n",
        "\n",
        "     type = \"l\", main= \"Empirical Cumulative Distribution Function\",xlab =\"Height in inches\", ylab = \"F(x)\")   "
      ],
      "metadata": {
        "colab": {
          "base_uri": "https://localhost:8080/",
          "height": 437
        },
        "id": "Lz8v62ZAhGtI",
        "outputId": "50abacb1-05fb-41bf-db29-ce6e09f2a8ea"
      },
      "execution_count": 38,
      "outputs": [
        {
          "output_type": "display_data",
          "data": {
            "text/plain": [
              "Plot with title “Empirical Cumulative Distribution Function”"
            ],
            "image/png": "[encoded data removed]"
          },
          "metadata": {
            "image/png": {
              "width": 420,
              "height": 420
            }
          }
        }
      ]
    },
    {
      "cell_type": "code",
      "source": [
        ""
      ],
      "metadata": {
        "id": "JlQw2TKWhgYW"
      },
      "execution_count": null,
      "outputs": []
    }
  ]
}